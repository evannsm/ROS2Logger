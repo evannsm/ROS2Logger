{
 "cells": [
  {
   "cell_type": "code",
   "execution_count": null,
   "id": "7a5ebf15",
   "metadata": {},
   "outputs": [],
   "source": [
    "import os\n",
    "import pandas as pd\n",
    "from utilities import *\n"
   ]
  },
  {
   "cell_type": "code",
   "execution_count": 12,
   "id": "d602259b",
   "metadata": {},
   "outputs": [],
   "source": [
    "# === Configuration ===\n",
    "logs_path = \"log_files/\"\n",
    "log_files_dict = {'1': 'log.log',\n",
    "                    '2': 'log2.log',\n",
    "                    '3': 'log3.log',\n",
    "                    }"
   ]
  },
  {
   "cell_type": "markdown",
   "id": "eee53e4a",
   "metadata": {},
   "source": [
    "## Get the data out"
   ]
  },
  {
   "cell_type": "code",
   "execution_count": 13,
   "id": "c393a5dd",
   "metadata": {},
   "outputs": [
    {
     "data": {
      "text/html": [
       "<div>\n",
       "<style scoped>\n",
       "    .dataframe tbody tr th:only-of-type {\n",
       "        vertical-align: middle;\n",
       "    }\n",
       "\n",
       "    .dataframe tbody tr th {\n",
       "        vertical-align: top;\n",
       "    }\n",
       "\n",
       "    .dataframe thead th {\n",
       "        text-align: right;\n",
       "    }\n",
       "</style>\n",
       "<table border=\"1\" class=\"dataframe\">\n",
       "  <thead>\n",
       "    <tr style=\"text-align: right;\">\n",
       "      <th></th>\n",
       "      <th>time</th>\n",
       "      <th>x</th>\n",
       "      <th>y</th>\n",
       "      <th>z</th>\n",
       "      <th>psi</th>\n",
       "      <th>input_force</th>\n",
       "      <th>input_moment_x</th>\n",
       "      <th>input_moment_y</th>\n",
       "      <th>input_moment_z</th>\n",
       "      <th>x_ref</th>\n",
       "      <th>y_ref</th>\n",
       "      <th>z_ref</th>\n",
       "      <th>psi_ref</th>\n",
       "    </tr>\n",
       "  </thead>\n",
       "  <tbody>\n",
       "    <tr>\n",
       "      <th>0</th>\n",
       "      <td>0.01</td>\n",
       "      <td>1.0</td>\n",
       "      <td>2.0</td>\n",
       "      <td>3.0</td>\n",
       "      <td>0.0</td>\n",
       "      <td>1.0</td>\n",
       "      <td>2.0</td>\n",
       "      <td>3.0</td>\n",
       "      <td>4.0</td>\n",
       "      <td>0.0</td>\n",
       "      <td>2.0</td>\n",
       "      <td>3.0</td>\n",
       "      <td>0.0</td>\n",
       "    </tr>\n",
       "    <tr>\n",
       "      <th>1</th>\n",
       "      <td>0.02</td>\n",
       "      <td>1.0</td>\n",
       "      <td>2.0</td>\n",
       "      <td>3.0</td>\n",
       "      <td>0.0</td>\n",
       "      <td>1.0</td>\n",
       "      <td>2.0</td>\n",
       "      <td>3.0</td>\n",
       "      <td>4.0</td>\n",
       "      <td>0.0</td>\n",
       "      <td>2.0</td>\n",
       "      <td>3.0</td>\n",
       "      <td>0.0</td>\n",
       "    </tr>\n",
       "    <tr>\n",
       "      <th>2</th>\n",
       "      <td>0.03</td>\n",
       "      <td>1.0</td>\n",
       "      <td>2.0</td>\n",
       "      <td>3.0</td>\n",
       "      <td>0.0</td>\n",
       "      <td>1.0</td>\n",
       "      <td>2.0</td>\n",
       "      <td>3.0</td>\n",
       "      <td>4.0</td>\n",
       "      <td>0.0</td>\n",
       "      <td>2.0</td>\n",
       "      <td>3.0</td>\n",
       "      <td>0.0</td>\n",
       "    </tr>\n",
       "    <tr>\n",
       "      <th>3</th>\n",
       "      <td>0.04</td>\n",
       "      <td>1.0</td>\n",
       "      <td>2.0</td>\n",
       "      <td>3.0</td>\n",
       "      <td>0.0</td>\n",
       "      <td>1.0</td>\n",
       "      <td>2.0</td>\n",
       "      <td>3.0</td>\n",
       "      <td>4.0</td>\n",
       "      <td>0.0</td>\n",
       "      <td>2.0</td>\n",
       "      <td>3.0</td>\n",
       "      <td>0.0</td>\n",
       "    </tr>\n",
       "    <tr>\n",
       "      <th>4</th>\n",
       "      <td>0.05</td>\n",
       "      <td>1.0</td>\n",
       "      <td>2.0</td>\n",
       "      <td>3.0</td>\n",
       "      <td>0.0</td>\n",
       "      <td>1.0</td>\n",
       "      <td>2.0</td>\n",
       "      <td>3.0</td>\n",
       "      <td>4.0</td>\n",
       "      <td>0.0</td>\n",
       "      <td>2.0</td>\n",
       "      <td>3.0</td>\n",
       "      <td>0.0</td>\n",
       "    </tr>\n",
       "  </tbody>\n",
       "</table>\n",
       "</div>"
      ],
      "text/plain": [
       "   time    x    y    z  psi  input_force  input_moment_x  input_moment_y  \\\n",
       "0  0.01  1.0  2.0  3.0  0.0          1.0             2.0             3.0   \n",
       "1  0.02  1.0  2.0  3.0  0.0          1.0             2.0             3.0   \n",
       "2  0.03  1.0  2.0  3.0  0.0          1.0             2.0             3.0   \n",
       "3  0.04  1.0  2.0  3.0  0.0          1.0             2.0             3.0   \n",
       "4  0.05  1.0  2.0  3.0  0.0          1.0             2.0             3.0   \n",
       "\n",
       "   input_moment_z  x_ref  y_ref  z_ref  psi_ref  \n",
       "0             4.0    0.0    2.0    3.0      0.0  \n",
       "1             4.0    0.0    2.0    3.0      0.0  \n",
       "2             4.0    0.0    2.0    3.0      0.0  \n",
       "3             4.0    0.0    2.0    3.0      0.0  \n",
       "4             4.0    0.0    2.0    3.0      0.0  "
      ]
     },
     "execution_count": 13,
     "metadata": {},
     "output_type": "execute_result"
    }
   ],
   "source": [
    "# Reading the .log file into a pandas DataFrame\n",
    "df_log = pd.read_csv(logs_path + log_files_dict['3'], header=0)\n",
    "# Display the first few rows to confirm successful import\n",
    "df_log.head()"
   ]
  },
  {
   "cell_type": "markdown",
   "id": "347d6b98",
   "metadata": {},
   "source": [
    "### This is an example of the uses of the utilities module I've provided"
   ]
  },
  {
   "cell_type": "code",
   "execution_count": 14,
   "id": "3a61ca3e",
   "metadata": {},
   "outputs": [
    {
     "data": {
      "text/plain": [
       "1.0"
      ]
     },
     "execution_count": 14,
     "metadata": {},
     "output_type": "execute_result"
    }
   ],
   "source": [
    "calculate_overall_rmse(df_log)"
   ]
  },
  {
   "cell_type": "markdown",
   "id": "5a1e6ebd",
   "metadata": {},
   "source": [
    "### Fill In this section with your own data analysis using pandas"
   ]
  },
  {
   "cell_type": "code",
   "execution_count": null,
   "id": "6b796439",
   "metadata": {},
   "outputs": [],
   "source": []
  },
  {
   "cell_type": "code",
   "execution_count": null,
   "id": "bbdfdd20",
   "metadata": {},
   "outputs": [],
   "source": []
  },
  {
   "cell_type": "markdown",
   "id": "8b712147",
   "metadata": {},
   "source": [
    "### This is a nice template from my previous work to properly export complex plots as pdfs for writing papers in latek"
   ]
  },
  {
   "cell_type": "code",
   "execution_count": 13,
   "id": "1763b8cc",
   "metadata": {},
   "outputs": [],
   "source": [
    "import os\n",
    "import matplotlib.pyplot as plt"
   ]
  },
  {
   "cell_type": "code",
   "execution_count": 14,
   "id": "5b8b8498",
   "metadata": {},
   "outputs": [],
   "source": [
    "# Font and figure settings\n",
    "plt.rcParams['text.usetex'] = False\n",
    "plt.rcParams['font.family'] = 'serif'\n",
    "plt.rcParams['font.serif'] = ['EB Garamond']"
   ]
  },
  {
   "cell_type": "code",
   "execution_count": null,
   "id": "8208d4b9",
   "metadata": {},
   "outputs": [],
   "source": [
    "# shape_names = ['Circle A', 'Circle B', 'Lemniscate A', 'Lemniscate B', 'Lemniscate C', 'Triangle', 'Sawtooth']\n",
    "\n",
    "# # Trimming settings\n",
    "# trim_seconds = 5.5\n",
    "# sampling_rate_hz = 100\n",
    "# rows_to_trim = int(trim_seconds * sampling_rate_hz)\n",
    "\n",
    "# # Line style settings\n",
    "# line_width = 2\n",
    "# ref_linestyle = (0, (5, 5))  # 5pt on, 5pt off\n",
    "\n",
    "# # Create figure\n",
    "# fig, axs = plt.subplots(2, 7, figsize=(26, 10), sharex=False, sharey=False)\n",
    "# axs = axs.flatten()\n",
    "\n",
    "# fw = 'medium'\n",
    "# fs_title = 22\n",
    "# fs_label = 19\n",
    "# tick_fontsize = 7.5\n",
    "\n",
    "# alphabet_labels = ['a', 'b', 'c', 'd', 'e', 'f', 'g', 'h', 'i', 'j', 'k', 'l', 'm', 'n']\n",
    "\n",
    "# for i, key in enumerate(['1', '2', '3', '4', '5', '6', '7']):\n",
    "#     if key == '2':\n",
    "#         x_col, y_col = 'x', 'z'\n",
    "#     elif key in ['4', '5']:\n",
    "#         x_col, y_col = 'y', 'z'\n",
    "#     else:\n",
    "#         x_col, y_col = 'x', 'y'\n",
    "\n",
    "#     # === NR ===\n",
    "#     df_nr = pd.read_csv(os.path.join(nr_data_path, nr_data_dict[key]))\n",
    "#     if len(df_nr) > 2 * rows_to_trim:\n",
    "#         df_nr = df_nr.iloc[rows_to_trim:-rows_to_trim]\n",
    "#     ax = axs[i]\n",
    "#     ax.plot(df_nr[x_col], df_nr[y_col], color='red', linestyle='-', linewidth=line_width, label='Actual')\n",
    "#     ax.plot(df_nr[f'{x_col}_ref'], df_nr[f'{y_col}_ref'], color='blue', linestyle=ref_linestyle, linewidth=line_width, label='Reference')\n",
    "#     ax.set_xlabel(f'{x_col} (m)', fontsize=fs_label, fontweight=fw)\n",
    "#     ax.set_ylabel(f'{y_col} (m)', fontsize=fs_label, fontweight=fw)\n",
    "#     ax.set_title(f'{alphabet_labels[i]}) NR: {shape_names[i]}', fontsize=fs_title, fontweight=fw)\n",
    "#     ax.tick_params(labelsize=tick_fontsize)\n",
    "#     ax.set_aspect('equal', adjustable='datalim')\n",
    "\n",
    "#     # === MPC ===\n",
    "#     df_mpc = pd.read_csv(os.path.join(mpc_data_path, mpc_data_dict[key]))\n",
    "#     if len(df_mpc) > 2 * rows_to_trim:\n",
    "#         df_mpc = df_mpc.iloc[rows_to_trim:-rows_to_trim]\n",
    "#     ax = axs[i + 7]\n",
    "#     ax.plot(df_mpc[x_col], df_mpc[y_col], color='red', linestyle='-', linewidth=line_width, label='Actual')\n",
    "#     ax.plot(df_mpc[f'{x_col}_ref'], df_mpc[f'{y_col}_ref'], color='blue', linestyle=ref_linestyle, linewidth=line_width, label='Reference')\n",
    "#     ax.set_xlabel(f'{x_col} (m)', fontsize=fs_label, fontweight=fw)\n",
    "#     ax.set_ylabel(f'{y_col} (m)', fontsize=fs_label, fontweight=fw)\n",
    "#     ax.set_title(f'{alphabet_labels[i + 7]}) NMPC: {shape_names[i]}', fontsize=fs_title, fontweight=fw)\n",
    "#     ax.tick_params(labelsize=tick_fontsize)\n",
    "#     ax.set_aspect('equal', adjustable='datalim')\n",
    "\n",
    "# plt.tight_layout(rect=[0, 0.03, 1, 1])\n",
    "# plt.savefig(\"traj_comparison_2x_custom_axes_trimmed.pdf\", format='pdf', bbox_inches='tight')\n",
    "# plt.show()"
   ]
  }
 ],
 "metadata": {
  "kernelspec": {
   "display_name": "plotting_env",
   "language": "python",
   "name": "python3"
  },
  "language_info": {
   "codemirror_mode": {
    "name": "ipython",
    "version": 3
   },
   "file_extension": ".py",
   "mimetype": "text/x-python",
   "name": "python",
   "nbconvert_exporter": "python",
   "pygments_lexer": "ipython3",
   "version": "3.10.17"
  }
 },
 "nbformat": 4,
 "nbformat_minor": 5
}
